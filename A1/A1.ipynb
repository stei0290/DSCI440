{
 "cells": [
  {
   "cell_type": "code",
   "execution_count": 143,
   "metadata": {},
   "outputs": [],
   "source": [
    "#*********************************************************************\n",
    "#File name:  A1.ipynb\n",
    "#Author:     Roman Stein      \n",
    "#Date:  \t    02/20/23\n",
    "#Class: \t    DSCI 440W\n",
    "#Assignment: IA1\n",
    "#Purpose:    Impliment Linear regressio with the closed-form solution       \n",
    "#**********************************************************************"
   ]
  },
  {
   "cell_type": "code",
   "execution_count": 1,
   "metadata": {},
   "outputs": [],
   "source": [
    "#imports\n",
    "import sympy as sp\n",
    "import pandas as pd\n",
    "import numpy as np\n",
    "import pylab as pp\n",
    "import matplotlib.pyplot as plt\n",
    "from sympy import *\n",
    "sp.init_printing(use_unicode=True, use_latex='mathjax')"
   ]
  },
  {
   "cell_type": "code",
   "execution_count": 145,
   "metadata": {},
   "outputs": [],
   "source": [
    "#Constants and variables\n",
    "FILENAME = './cf.txt'\n",
    "cel = []\n",
    "far = []"
   ]
  },
  {
   "cell_type": "code",
   "execution_count": 146,
   "metadata": {},
   "outputs": [],
   "source": [
    "#***********************************************************************\n",
    "#Function:   getNumRows\n",
    "#Descripion: Returns the number of rows in the passed in matrix\n",
    "#Input:      matx - matrix in question\n",
    "#Output:     numRows - number of rows in matrix X\n",
    "#***********************************************************************\n",
    "def getNumRows(matX):\n",
    "    num = shape(matX)\n",
    "    numRows = num[0]\n",
    "    return numRows"
   ]
  },
  {
   "cell_type": "code",
   "execution_count": 147,
   "metadata": {},
   "outputs": [],
   "source": [
    "#******************************************************************************\n",
    "#Function:   findW\n",
    "#Descripion: Creates matrix W using closed form solution of linear regression\n",
    "#Input:      matx - matrix in question\n",
    "#Output:     numRows - number of rows in matrix X\n",
    "#******************************************************************************\n",
    "# W =X.T * X)**-1 * X.T*Y\n",
    "def findW(matX, vecY):\n",
    "    # sum = 0\n",
    "    # numRows = getNumRows(matX)\n",
    "    # matW = zeros(numRows,1)\n",
    "    matW = ((matX.T * matX)**-1) * (matX.T * vecY)\n",
    "    return matW"
   ]
  },
  {
   "cell_type": "code",
   "execution_count": 148,
   "metadata": {},
   "outputs": [],
   "source": [
    "#******************************************************************************\n",
    "#Function:   findSSE\n",
    "#Descripion: Determines the SSE given matrix X,Y,W\n",
    "#Input:     matX - matrix of values\n",
    "#           vecY - training data\n",
    "#           vecW - vector of weights\n",
    "#Output:    SSE - Sum of Squared Errors of linear regression\n",
    "#******************************************************************************\n",
    "def findSSE(matX, vecY, vecW):\n",
    "    SSE = 0\n",
    "    sum = 0\n",
    "    for i in range(getNumRows(matX)):\n",
    "        sum = ((vecW.T * matX.row(i)) - vecY.row(i))**2\n",
    "        SSE = sum + SSE\n",
    "\n",
    "    SSE = .5 * SSE\n",
    "    return (SSE)"
   ]
  },
  {
   "cell_type": "code",
   "execution_count": 149,
   "metadata": {},
   "outputs": [
    {
     "name": "stdout",
     "output_type": "stream",
     "text": [
      "262\n",
      "im gay\n"
     ]
    }
   ],
   "source": [
    "myData = np.loadtxt(FILENAME, delimiter=' ')\n",
    "numRows = myData.size\n",
    "print(numRows)\n",
    "\n",
    "if (4 % 2 == 0):\n",
    "    print('im gay')"
   ]
  },
  {
   "cell_type": "code",
   "execution_count": 150,
   "metadata": {},
   "outputs": [
    {
     "name": "stdout",
     "output_type": "stream",
     "text": [
      "262\n",
      "131\n"
     ]
    },
    {
     "data": {
      "text/latex": [
       "$\\displaystyle 131$"
      ],
      "text/plain": [
       "131"
      ]
     },
     "execution_count": 150,
     "metadata": {},
     "output_type": "execute_result"
    }
   ],
   "source": [
    "celCounter = 0\n",
    "farCounter = 0\n",
    "print(numRows)\n",
    "for i in range(numRows):\n",
    "    if (i % 2 == 0):\n",
    "        cel.append(myData[celCounter])\n",
    "        celCounter = celCounter + 1\n",
    "    else:\n",
    "        far.append(myData[farCounter])\n",
    "        farCounter = farCounter + 1\n",
    "# Add bias term to cel\n",
    "# cel = np.append(cel, np.ones((500,1)), axis=1)\n",
    "# mat1 = np.append(cel, np.ones((numRows,1)), axis=1)\n",
    "\n",
    "# far = np.insert(far,0,0)\n",
    "# cel.append(np.ones,((numRows,1)), axis = 1)\n",
    "# print(cel)"
   ]
  },
  {
   "cell_type": "code",
   "execution_count": 151,
   "metadata": {},
   "outputs": [
    {
     "data": {
      "text/latex": [
       "$\\displaystyle \\left( 131, \\  1\\right)$"
      ],
      "text/plain": [
       "(131, 1)"
      ]
     },
     "execution_count": 151,
     "metadata": {},
     "output_type": "execute_result"
    }
   ],
   "source": [
    "cMatrix = Matrix(cel)\n",
    "#print(cMatrix)\n",
    "cMatrix.shape\n",
    "# fMatrix = Matrix(far)\n",
    "# numRows = getNumRows(cMatrix)\n",
    "# matW = zeros(numRows,1)\n",
    "# matW = findW(cMatrix,fMatrix)\n",
    "\n"
   ]
  },
  {
   "cell_type": "code",
   "execution_count": null,
   "metadata": {},
   "outputs": [],
   "source": []
  },
  {
   "cell_type": "code",
   "execution_count": 152,
   "metadata": {},
   "outputs": [
    {
     "ename": "TypeError",
     "evalue": "list indices must be integers or slices, not tuple",
     "output_type": "error",
     "traceback": [
      "\u001b[0;31m---------------------------------------------------------------------------\u001b[0m",
      "\u001b[0;31mTypeError\u001b[0m                                 Traceback (most recent call last)",
      "\u001b[1;32m/Users/nadesocko/Desktop/MachineLearning/A1/A1.ipynb Cell 11\u001b[0m in \u001b[0;36m<cell line: 5>\u001b[0;34m()\u001b[0m\n\u001b[1;32m      <a href='vscode-notebook-cell:/Users/nadesocko/Desktop/MachineLearning/A1/A1.ipynb#X12sZmlsZQ%3D%3D?line=2'>3</a>\u001b[0m fMatrix \u001b[39m=\u001b[39m[]\n\u001b[1;32m      <a href='vscode-notebook-cell:/Users/nadesocko/Desktop/MachineLearning/A1/A1.ipynb#X12sZmlsZQ%3D%3D?line=3'>4</a>\u001b[0m pp\u001b[39m.\u001b[39mfigure(\u001b[39m1\u001b[39m)  \n\u001b[0;32m----> <a href='vscode-notebook-cell:/Users/nadesocko/Desktop/MachineLearning/A1/A1.ipynb#X12sZmlsZQ%3D%3D?line=4'>5</a>\u001b[0m pp\u001b[39m.\u001b[39mplot(fMatrix[:,\u001b[39m1\u001b[39;49m], Y,\u001b[39m'\u001b[39m\u001b[39mr*\u001b[39m\u001b[39m'\u001b[39m,label\u001b[39m=\u001b[39m\u001b[39m'\u001b[39m\u001b[39mtraining data\u001b[39m\u001b[39m'\u001b[39m)    \u001b[39m# training data\u001b[39;00m\n\u001b[1;32m      <a href='vscode-notebook-cell:/Users/nadesocko/Desktop/MachineLearning/A1/A1.ipynb#X12sZmlsZQ%3D%3D?line=5'>6</a>\u001b[0m fX \u001b[39m=\u001b[39m fMatrix\u001b[39m.\u001b[39mdot(cMatrix)                                    \u001b[39m# calculate predicted values\u001b[39;00m\n\u001b[1;32m      <a href='vscode-notebook-cell:/Users/nadesocko/Desktop/MachineLearning/A1/A1.ipynb#X12sZmlsZQ%3D%3D?line=6'>7</a>\u001b[0m pp\u001b[39m.\u001b[39mplot(fMatrix[:,\u001b[39m1\u001b[39m], fX,\u001b[39m'\u001b[39m\u001b[39mm.\u001b[39m\u001b[39m'\u001b[39m,label\u001b[39m=\u001b[39m\u001b[39m'\u001b[39m\u001b[39mpredicted values\u001b[39m\u001b[39m'\u001b[39m)\u001b[39m# plot predicted values\u001b[39;00m\n",
      "\u001b[0;31mTypeError\u001b[0m: list indices must be integers or slices, not tuple"
     ]
    },
    {
     "data": {
      "text/plain": [
       "<Figure size 432x288 with 0 Axes>"
      ]
     },
     "metadata": {},
     "output_type": "display_data"
    }
   ],
   "source": [
    "# plotting of a line f(x) = w_0 + w_1*x\n",
    "#~~~~~~~~~~~~~~~~~~~~~~~~~~~~~~~~~~~~~~~~~~\n",
    "fMatrix =[]\n",
    "pp.figure(1)  \n",
    "pp.plot(fMatrix[:,1], Y,'r*',label='training data')    # training data\n",
    "fX = fMatrix.dot(cMatrix)                                    # calculate predicted values\n",
    "pp.plot(fMatrix[:,1], fX,'m.',label='predicted values')# plot predicted values\n",
    "x_hlp = np.arange(-1,100,0.01)                   # generate points on x axis\n",
    "y_hlp = w[0]+w[1]*x_hlp                          # calculate values of the linear function\n",
    "pp.plot(x_hlp,y_hlp,'b',label='linear fit')      # plot linear function\n",
    "pp.title('Linear regression')\n",
    "pp.xlabel('x (C)')\n",
    "pp.ylabel('y (F)')\n",
    "pp.legend()\n",
    "pp.show()                                        # might need to be the last line to work properly"
   ]
  },
  {
   "cell_type": "code",
   "execution_count": null,
   "metadata": {},
   "outputs": [],
   "source": [
    "def createPlot(xAxis, yAxis, pltLabel, xLabel, yLabel):\n",
    "    plt.plot(xAxis,yAxis, 'ko', label= pltLabel)\n",
    "    plt.xlabel(xLabel)\n",
    "    plt.ylabel(yLabel)"
   ]
  },
  {
   "cell_type": "code",
   "execution_count": null,
   "metadata": {},
   "outputs": [
    {
     "data": {
      "image/png": "[encoded data removed]",
      "text/plain": [
       "<Figure size 432x288 with 1 Axes>"
      ]
     },
     "metadata": {
      "needs_background": "light"
     },
     "output_type": "display_data"
    }
   ],
   "source": [
    "createPlot(cMatrix,fMatrix, 'celcius vs Fahrenheit', 'Celcius', 'Fahrenheit')"
   ]
  },
  {
   "cell_type": "code",
   "execution_count": 13,
   "metadata": {},
   "outputs": [
    {
     "name": "stdout",
     "output_type": "stream",
     "text": [
      "<class 'numpy.ndarray'>\n",
      "(500, 2)\n",
      "(500, 1)\n"
     ]
    }
   ],
   "source": [
    "np.random.seed(42)\n",
    "Xx = np.random.randn(500,1)\n",
    "y = 2*Xx + 1 + 1.2*np.random.randn(500,1)\n",
    "\n",
    "mat1 = np.append(Xx, np.ones((500,1)), axis=1)\n",
    "print(type(Xx))\n",
    "\n",
    "mat1 = Matrix(mat1)\n",
    "mat2 = Matrix(y)\n",
    "print(mat1.shape)\n",
    "print(mat2.shape)"
   ]
  },
  {
   "cell_type": "code",
   "execution_count": 14,
   "metadata": {},
   "outputs": [
    {
     "name": "stdout",
     "output_type": "stream",
     "text": [
      "Matrix([[1.90949641529393], [1.03881020348968]])\n"
     ]
    }
   ],
   "source": [
    "m = mat1.shape[0]\n",
    "\n",
    "# matW = ((matX.T * matX)**-1) * (matX.T * vecY)\n",
    "\n",
    "theta = ((mat1.T * mat1)**-1)  * (mat1.T * mat2)\n",
    "print(theta)\n",
    "# theta = np.dot(np.linalg.inv(np.dot(X.T, X)), np.dot(X.T, y))\n"
   ]
  },
  {
   "cell_type": "code",
   "execution_count": null,
   "metadata": {},
   "outputs": [],
   "source": [
    "z"
   ]
  }
 ],
 "metadata": {
  "kernelspec": {
   "display_name": "base",
   "language": "python",
   "name": "python3"
  },
  "language_info": {
   "codemirror_mode": {
    "name": "ipython",
    "version": 3
   },
   "file_extension": ".py",
   "mimetype": "text/x-python",
   "name": "python",
   "nbconvert_exporter": "python",
   "pygments_lexer": "ipython3",
   "version": "3.9.12"
  },
  "orig_nbformat": 4,
  "vscode": {
   "interpreter": {
    "hash": "40d3a090f54c6569ab1632332b64b2c03c39dcf918b08424e98f38b5ae0af88f"
   }
  }
 },
 "nbformat": 4,
 "nbformat_minor": 2
}
